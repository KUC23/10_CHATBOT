{
 "cells": [
  {
   "cell_type": "markdown",
   "metadata": {},
   "source": [
    "bbc 크롤링"
   ]
  },
  {
   "cell_type": "code",
   "execution_count": 4,
   "metadata": {},
   "outputs": [
    {
     "name": "stdout",
     "output_type": "stream",
     "text": [
      "Fetching articles for category: world\n",
      "No articles found for category: world\n",
      "==================================================\n",
      "Fetching articles for category: technology\n",
      "No articles found for category: technology\n",
      "==================================================\n",
      "Fetching articles for category: business\n",
      "No articles found for category: business\n",
      "==================================================\n",
      "Fetching articles for category: science\n"
     ]
    },
    {
     "ename": "KeyboardInterrupt",
     "evalue": "",
     "output_type": "error",
     "traceback": [
      "\u001b[1;31m---------------------------------------------------------------------------\u001b[0m",
      "\u001b[1;31mKeyboardInterrupt\u001b[0m                         Traceback (most recent call last)",
      "Cell \u001b[1;32mIn[4], line 66\u001b[0m\n\u001b[0;32m     64\u001b[0m \u001b[38;5;28;01mfor\u001b[39;00m category, url \u001b[38;5;129;01min\u001b[39;00m categories\u001b[38;5;241m.\u001b[39mitems():\n\u001b[0;32m     65\u001b[0m     \u001b[38;5;28mprint\u001b[39m(\u001b[38;5;124mf\u001b[39m\u001b[38;5;124m\"\u001b[39m\u001b[38;5;124mFetching articles for category: \u001b[39m\u001b[38;5;132;01m{\u001b[39;00mcategory\u001b[38;5;132;01m}\u001b[39;00m\u001b[38;5;124m\"\u001b[39m)\n\u001b[1;32m---> 66\u001b[0m     articles \u001b[38;5;241m=\u001b[39m \u001b[43mscrape_bbc_news_with_xpath\u001b[49m\u001b[43m(\u001b[49m\u001b[43murl\u001b[49m\u001b[43m)\u001b[49m\n\u001b[0;32m     68\u001b[0m     \u001b[38;5;28;01mif\u001b[39;00m articles:  \u001b[38;5;66;03m# 기사가 있을 경우 출력\u001b[39;00m\n\u001b[0;32m     69\u001b[0m         \u001b[38;5;28;01mfor\u001b[39;00m article \u001b[38;5;129;01min\u001b[39;00m articles[:\u001b[38;5;241m5\u001b[39m]:  \u001b[38;5;66;03m# 상위 5개 기사만 출력\u001b[39;00m\n",
      "Cell \u001b[1;32mIn[4], line 30\u001b[0m, in \u001b[0;36mscrape_bbc_news_with_xpath\u001b[1;34m(category_url)\u001b[0m\n\u001b[0;32m     27\u001b[0m     \u001b[38;5;28;01mreturn\u001b[39;00m []\n\u001b[0;32m     29\u001b[0m \u001b[38;5;66;03m# 페이지 HTML 출력 (디버깅용)\u001b[39;00m\n\u001b[1;32m---> 30\u001b[0m \u001b[43mtime\u001b[49m\u001b[38;5;241;43m.\u001b[39;49m\u001b[43msleep\u001b[49m\u001b[43m(\u001b[49m\u001b[38;5;241;43m5\u001b[39;49m\u001b[43m)\u001b[49m  \u001b[38;5;66;03m# 추가된 부분\u001b[39;00m\n\u001b[0;32m     31\u001b[0m page_source \u001b[38;5;241m=\u001b[39m driver\u001b[38;5;241m.\u001b[39mpage_source\n\u001b[0;32m     32\u001b[0m soup \u001b[38;5;241m=\u001b[39m BeautifulSoup(page_source, \u001b[38;5;124m'\u001b[39m\u001b[38;5;124mhtml.parser\u001b[39m\u001b[38;5;124m'\u001b[39m)\n",
      "\u001b[1;31mKeyboardInterrupt\u001b[0m: "
     ]
    }
   ],
   "source": [
    "from selenium import webdriver\n",
    "from selenium.webdriver.chrome.service import Service\n",
    "from selenium.webdriver.common.by import By\n",
    "from selenium.webdriver.chrome.options import Options\n",
    "from selenium.webdriver.support.ui import WebDriverWait\n",
    "from selenium.webdriver.support import expected_conditions as EC\n",
    "from webdriver_manager.chrome import ChromeDriverManager\n",
    "from bs4 import BeautifulSoup\n",
    "import time  # 추가된 부분\n",
    "\n",
    "def scrape_bbc_news_with_xpath(category_url):\n",
    "    # Selenium WebDriver 설정\n",
    "    options = Options()\n",
    "    options.headless = False  # 브라우저 창 띄우기 (디버깅용)\n",
    "    driver = webdriver.Chrome(service=Service(ChromeDriverManager().install()), options=options)\n",
    "\n",
    "    driver.get(category_url)\n",
    "\n",
    "    # 페이지 로드 완료 대기\n",
    "    try:\n",
    "        WebDriverWait(driver, 10).until(\n",
    "            EC.presence_of_all_elements_located((By.TAG_NAME, \"body\"))\n",
    "        )\n",
    "    except Exception as e:\n",
    "        print(f\"Error during page load: {e}\")\n",
    "        driver.quit()\n",
    "        return []\n",
    "\n",
    "    # 페이지 HTML 출력 (디버깅용)\n",
    "    time.sleep(5)  # 추가된 부분\n",
    "    page_source = driver.page_source\n",
    "    soup = BeautifulSoup(page_source, 'html.parser')\n",
    "    articles = []\n",
    "\n",
    "    # XPath로 기사 추출\n",
    "    try:\n",
    "        elements = driver.find_elements(By.XPATH, \"//a[contains(@class, 'gs-c-promo-heading')]\")\n",
    "        for element in elements:\n",
    "            title = element.text.strip()  # 기사 제목\n",
    "            link = element.get_attribute(\"href\")  # 기사 링크\n",
    "\n",
    "            # 유효한 링크만 추가\n",
    "            if link:\n",
    "                articles.append({\"title\": title, \"link\": link})\n",
    "    except Exception as e:\n",
    "        print(f\"Error during element extraction: {e}\")\n",
    "\n",
    "    driver.quit()  # 브라우저 종료\n",
    "    return articles\n",
    "\n",
    "# 카테고리별로 크롤링하기\n",
    "categories = {\n",
    "    \"world\": \"https://www.bbc.com/news/world\",\n",
    "    \"technology\": \"https://www.bbc.com/news/technology\",\n",
    "    \"business\": \"https://www.bbc.com/news/business\",\n",
    "    \"science\": \"https://www.bbc.com/news/science_and_environment\",\n",
    "    \"health\": \"https://www.bbc.com/news/health\",\n",
    "    \"politics\": \"https://www.bbc.com/news/politics\",\n",
    "    \"entertainment\": \"https://www.bbc.com/news/entertainment_and_arts\",\n",
    "    \"sport\": \"https://www.bbc.com/sport\"\n",
    "}\n",
    "\n",
    "# 각 카테고리에서 기사를 크롤링하고 출력하기\n",
    "for category, url in categories.items():\n",
    "    print(f\"Fetching articles for category: {category}\")\n",
    "    articles = scrape_bbc_news_with_xpath(url)\n",
    "    \n",
    "    if articles:  # 기사가 있을 경우 출력\n",
    "        for article in articles[:5]:  # 상위 5개 기사만 출력\n",
    "            print(f\"Title: {article['title']}\\nLink: {article['link']}\\n\")\n",
    "    else:\n",
    "        print(f\"No articles found for category: {category}\")\n",
    "    print(\"=\"*50)\n"
   ]
  },
  {
   "cell_type": "code",
   "execution_count": null,
   "metadata": {},
   "outputs": [],
   "source": []
  }
 ],
 "metadata": {
  "kernelspec": {
   "display_name": ".venv",
   "language": "python",
   "name": "python3"
  },
  "language_info": {
   "codemirror_mode": {
    "name": "ipython",
    "version": 3
   },
   "file_extension": ".py",
   "mimetype": "text/x-python",
   "name": "python",
   "nbconvert_exporter": "python",
   "pygments_lexer": "ipython3",
   "version": "3.10.6"
  }
 },
 "nbformat": 4,
 "nbformat_minor": 2
}
