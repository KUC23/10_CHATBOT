{
 "cells": [
  {
   "cell_type": "code",
   "execution_count": 2,
   "id": "a226a7fd-fc9e-498f-9fd0-f4668402b666",
   "metadata": {},
   "outputs": [],
   "source": [
    "#Fetch Gemini API Key\n",
    "import os\n",
    "from getpass import getpass\n",
    "\n",
    "os.environ[\"GOOGLE_API_KEY\"] = getpass(\"Gemini API Key:\")"
   ]
  },
  {
   "cell_type": "markdown",
   "id": "59181a67",
   "metadata": {},
   "source": [
    "**bbc** - 크롤링 불가, 유기 <br>\n",
    "**블랙월** - 광고 너무 많아서 유기, 요약문만 사용? <br>\n",
    "**뉴욕타임즈** - API사용, 요약본, URL, 타이틀<br>\n",
    "**CNN** - 전문 긁어오기"
   ]
  },
  {
   "cell_type": "code",
   "execution_count": 48,
   "id": "1b6426b9",
   "metadata": {},
   "outputs": [],
   "source": [
    "import numpy\n",
    "import pandas as pd"
   ]
  },
  {
   "cell_type": "markdown",
   "id": "b5fead89",
   "metadata": {},
   "source": [
    "# 가사 데이터 수집"
   ]
  },
  {
   "cell_type": "code",
   "execution_count": null,
   "id": "92304273",
   "metadata": {},
   "outputs": [
    {
     "data": {
      "text/plain": [
       "title      Italy releases Iranian businessman wanted by U...\n",
       "link       https://edition.cnn.com/2025/01/12/europe/ital...\n",
       "content    Iranian businessman Mohammad Abedini, who was ...\n",
       "Name: 4, dtype: object"
      ]
     },
     "execution_count": 85,
     "metadata": {},
     "output_type": "execute_result"
    }
   ],
   "source": [
    "# cnn 기사 데이터 수집\n",
    "# cnn_news.csv 파일 경로 수정\n",
    "cnn=pd.read_csv(\"../data/cnn_news.csv\")\n",
    "\n",
    "# 기사 선정 기준? \n",
    "import random\n",
    "while True: \n",
    "    i=int(random.random()*100)\n",
    "    article=cnn.iloc[i]\n",
    "    if not (article.content=='' or article.content==\"No content available.\"): break\n",
    "article"
   ]
  },
  {
   "cell_type": "code",
   "execution_count": 88,
   "id": "b7d4c94f",
   "metadata": {},
   "outputs": [
    {
     "name": "stdout",
     "output_type": "stream",
     "text": [
      "Iranian businessman Mohammad Abedini, who was detained in Italy at the request of the United States following a drone attack that killed three Americans, has been released. Abedini, 38, was arrested i...\n"
     ]
    }
   ],
   "source": [
    "print(article.content)"
   ]
  },
  {
   "cell_type": "markdown",
   "id": "5633cb28",
   "metadata": {},
   "source": [
    "# full code"
   ]
  },
  {
   "cell_type": "code",
   "execution_count": 94,
   "id": "01007dca",
   "metadata": {},
   "outputs": [
    {
     "name": "stdout",
     "output_type": "stream",
     "text": [
      "summary created: 2.72702sec\n",
      "vocab created: 0.49353sec\n"
     ]
    }
   ],
   "source": [
    "# CNN full code\n",
    "import time\n",
    "import google.generativeai as genai\n",
    "\n",
    "\n",
    "# model for CNN, summarize\n",
    "# flash와 pro 양자택일, 어느쪽을 택하든 코드가 크게 달라지진 않음\n",
    "#system_instruction=\n",
    "model = genai.GenerativeModel(\"gemini-1.5-flash\")\n",
    "#model = genai.GenerativeModel(\"gemini-pro\")\n",
    "\n",
    "# give model an article\n",
    "chat = model.start_chat(history=[{'role':'user', 'parts':article.content}])\n",
    "\n",
    "# create summary\n",
    "start=time.time()\n",
    "summary = article.title\n",
    "summary += chat.send_message(\"입력된 내용을 영어로 요약해서 출력해줘. 요약문은 100자 이내여야 해.\").text\n",
    "summary += chat.send_message(\"요약본을 한국어로 번역해줘\").text\n",
    "end=time.time()\n",
    "print(f\"summary created: {end - start:.5f}sec\")\n",
    "\n",
    "# create vocab\n",
    "start=time.time()\n",
    "prompt=\"\"\"\n",
    "영문 요약본에서 적당한 난이도의 단어 3개만 찾아줘, 단어 옆에  한국어 뜻을 붙여줘. 단어와 뜻만 출력해. 각 단어 사이에는 개행해. \n",
    "예시: \n",
    "collates 모으다\n",
    "Crucial 중요한\n",
    "Attributed 귀속된\n",
    "\"\"\"\n",
    "\n",
    "response = chat.send_message(prompt)\n",
    "response=response.text.split('\\n')\n",
    "response.pop()\n",
    "vocab={}\n",
    "for i in range(len(response)):\n",
    "    v,m=response[i].split(maxsplit=1)\n",
    "    vocab[v]=m\n",
    "end=time.time()\n",
    "print(f\"vocab created: {end - start:.5f}sec\")"
   ]
  },
  {
   "cell_type": "markdown",
   "id": "08063b0e",
   "metadata": {},
   "source": [
    "# Summary"
   ]
  },
  {
   "cell_type": "code",
   "execution_count": null,
   "id": "90ea7acf",
   "metadata": {},
   "outputs": [],
   "source": [
    "#summary 생성 셀\n",
    "# flash와 pro 양자택일, 어느쪽을 택하든 코드가 크게 달라지진 않음\n",
    "#system_instruction=\n",
    "model = genai.GenerativeModel(\"gemini-1.5-flash\")\n",
    "#model = genai.GenerativeModel(\"gemini-pro\")\n",
    "\n",
    "# give model an article\n",
    "chat = model.start_chat(history=[{'role':'user', 'parts':article}])\n",
    "\n",
    "# create summary\n",
    "start=time.time()\n",
    "summary = chat.send_message(\"가지고 온 영어로된 기사를 영어로 요약해서 출력해줘. 요약문은 100자 이내여야 해.\")\n",
    "summary += chat.send_message(\"요약본을 한국어로 번역해줘\")\n",
    "end=time.time()\n",
    "print(f\"summary created: {end - start:.5f}sec\")"
   ]
  },
  {
   "cell_type": "code",
   "execution_count": 95,
   "id": "bc592cd4",
   "metadata": {},
   "outputs": [
    {
     "name": "stdout",
     "output_type": "stream",
     "text": [
      "Italy releases Iranian businessman wanted by US over drone attack that killed AmericansIranian businessman Mohammad Abedini, 38, was detained in Italy at the US's request following a drone strike that killed three Americans.  He has since been released.  The reason for his detention and the specifics of the drone strike remain unclear.\n",
      "38세 이란 사업가 모하마드 아베디니가 미국인 3명이 사망한 드론 공격 이후 미국의 요청으로 이탈리아에서 체포되었으나 석방되었습니다.  체포 이유와 드론 공격의 구체적인 내용은 아직 불분명합니다.\n",
      "\n"
     ]
    }
   ],
   "source": [
    "print(summary)"
   ]
  },
  {
   "cell_type": "code",
   "execution_count": 89,
   "id": "521846b8",
   "metadata": {},
   "outputs": [
    {
     "name": "stdout",
     "output_type": "stream",
     "text": [
      "원문 길이: 203\n",
      "요약문 길이: 339\n"
     ]
    }
   ],
   "source": [
    "print(\"원문 길이:\", len(article.content))\n",
    "print(\"요약문 길이:\", len(summary.split(\"\\n\")[0]))"
   ]
  },
  {
   "cell_type": "code",
   "execution_count": 97,
   "id": "a6770d1a",
   "metadata": {},
   "outputs": [
    {
     "data": {
      "text/plain": [
       "'38세 이란 사업가 모하마드 아베디니가 미국인 3명이 사망한 드론 공격 이후 미국의 요청으로 이탈리아에서 체포되었으나 석방되었습니다.  체포 이유와 드론 공격의 구체적인 내용은 아직 불분명합니다.'"
      ]
     },
     "execution_count": 97,
     "metadata": {},
     "output_type": "execute_result"
    }
   ],
   "source": [
    "# 영어 요약문\n",
    "summary.split(\"\\n\")[0]\n",
    "\n",
    "# 한국어 요약문\n",
    "summary.split(\"\\n\")[1]"
   ]
  },
  {
   "cell_type": "markdown",
   "id": "7fd29ed3",
   "metadata": {},
   "source": [
    "# 단어 추출(vocab)"
   ]
  },
  {
   "cell_type": "code",
   "execution_count": 45,
   "id": "61905657",
   "metadata": {},
   "outputs": [
    {
     "name": "stdout",
     "output_type": "stream",
     "text": [
      "vocab created: 0.54811sec\n"
     ]
    }
   ],
   "source": [
    "# 단어 추출\n",
    "# flash와 pro 양자택일, 어느쪽을 택하든 코드가 크게 달라지진 않음\n",
    "model = genai.GenerativeModel(\"gemini-1.5-flash\")\n",
    "#model = genai.GenerativeModel(\"gemini-pro\")\n",
    "\n",
    "# give model an article\n",
    "chat = model.start_chat(history=[{'role':'user', 'parts':article}])\n",
    "\n",
    "# create vocab\n",
    "start=time.time()\n",
    "prompt=\"\"\"\n",
    "영문 요약본에서 적당한 난이도의 단어 3개만 찾아줘, 단어 옆에  한국어 뜻을 붙여줘. 단어와 뜻만 출력해. 각 단어 사이에는 개행해. \n",
    "예시: \n",
    "collates 모으다\n",
    "Crucial 중요한\n",
    "Attributed 귀속된\n",
    "\"\"\"\n",
    "\n",
    "response = chat.send_message(prompt)\n",
    "response=response.text.split('\\n')\n",
    "response.pop()\n",
    "vocab={}\n",
    "for i in range(len(response)):\n",
    "    v,m=response[i].split(maxsplit=1)\n",
    "    vocab[v]=m\n",
    "end=time.time()\n",
    "print(f\"vocab created: {end - start:.5f}sec\")"
   ]
  },
  {
   "cell_type": "code",
   "execution_count": 91,
   "id": "1b531ef0",
   "metadata": {},
   "outputs": [
    {
     "data": {
      "text/plain": [
       "{'detained': '체포된', 'request': '요청', 'following': '~이후에'}"
      ]
     },
     "execution_count": 91,
     "metadata": {},
     "output_type": "execute_result"
    }
   ],
   "source": [
    "vocab"
   ]
  },
  {
   "cell_type": "code",
   "execution_count": 69,
   "id": "43bb9dc6",
   "metadata": {},
   "outputs": [
    {
     "data": {
      "text/plain": [
       "[parts {\n",
       "   text: \"A former child star from Australia died when the Los Angeles wildfires ripped through his family’s Malibu estate in California earlier this week, according to his mother. Rory Callum Sykes was at the ...\"\n",
       " }\n",
       " role: \"user\",\n",
       " parts {\n",
       "   text: \"가지고 온 영어로된 기사를 영어로 요약해서 출력해줘. 요약문은 100자 이내여야 해.\"\n",
       " }\n",
       " role: \"user\",\n",
       " parts {\n",
       "   text: \"Please provide me with the English article you\\'d like me to summarize.  I need the text of the article to create a 100-word summary.\\n\"\n",
       " }\n",
       " role: \"model\",\n",
       " parts {\n",
       "   text: \"요약본을 한국어로 번역해줘\"\n",
       " }\n",
       " role: \"user\",\n",
       " parts {\n",
       "   text: \"죄송합니다. 제게 기사 내용이 없어서 요약본을 한국어로 번역할 수 없습니다. 기사를 제공해주시면 제가 요약하고 한국어로 번역해 드리겠습니다.\\n\"\n",
       " }\n",
       " role: \"model\",\n",
       " parts {\n",
       "   text: \"\\n영문 요약본에서 적당한 난이도의 단어 3개만 찾아줘, 단어 옆에  한국어 뜻을 붙여줘. 단어와 뜻만 출력해.\\n예시: \\ncollates 모으다\\nCrucial 중요한\\nAttributed 귀속된\\n\"\n",
       " }\n",
       " role: \"user\",\n",
       " parts {\n",
       "   text: \"estate 재산\\nwildfires 산불\\nreportedly 보도에 따르면\\n\"\n",
       " }\n",
       " role: \"model\"]"
      ]
     },
     "execution_count": 69,
     "metadata": {},
     "output_type": "execute_result"
    }
   ],
   "source": [
    "chat.history"
   ]
  },
  {
   "cell_type": "code",
   "execution_count": null,
   "id": "a1eb7e9b",
   "metadata": {},
   "outputs": [],
   "source": []
  }
 ],
 "metadata": {
  "kernelspec": {
   "display_name": ".venv",
   "language": "python",
   "name": "python3"
  },
  "language_info": {
   "codemirror_mode": {
    "name": "ipython",
    "version": 3
   },
   "file_extension": ".py",
   "mimetype": "text/x-python",
   "name": "python",
   "nbconvert_exporter": "python",
   "pygments_lexer": "ipython3",
   "version": "3.10.11"
  }
 },
 "nbformat": 4,
 "nbformat_minor": 5
}
