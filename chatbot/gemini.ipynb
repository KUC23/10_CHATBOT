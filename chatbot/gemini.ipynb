{
 "cells": [
  {
   "cell_type": "code",
   "execution_count": 1,
   "id": "a226a7fd-fc9e-498f-9fd0-f4668402b666",
   "metadata": {},
   "outputs": [],
   "source": [
    "#Fetch Gemini API Key\n",
    "import os\n",
    "from getpass import getpass\n",
    "\n",
    "os.environ[\"GOOGLE_API_KEY\"] = getpass(\"Gemini API Key:\")"
   ]
  },
  {
   "cell_type": "markdown",
   "id": "59181a67",
   "metadata": {},
   "source": [
    "**bbc** - 크롤링 불가, 유기 <br>\n",
    "**블랙월** - 광고 너무 많아서 유기, 요약문만 사용? <br>\n",
    "**뉴욕타임즈** - API사용, 요약본, URL, 타이틀<br>\n",
    "**CNN** - 전문 긁어오기"
   ]
  },
  {
   "cell_type": "code",
   "execution_count": 2,
   "id": "1b6426b9",
   "metadata": {},
   "outputs": [],
   "source": [
    "import numpy\n",
    "import pandas as pd"
   ]
  },
  {
   "cell_type": "markdown",
   "id": "b5fead89",
   "metadata": {},
   "source": [
    "# 가사 데이터 수집"
   ]
  },
  {
   "cell_type": "code",
   "execution_count": 18,
   "id": "92304273",
   "metadata": {},
   "outputs": [
    {
     "data": {
      "text/plain": [
       "title      What happens to celebrities’ outfits after a r...\n",
       "link       https://edition.cnn.com/2025/01/06/style/celeb...\n",
       "content    Every time a celebrity poses on a red carpet, ...\n",
       "Name: 1, dtype: object"
      ]
     },
     "execution_count": 18,
     "metadata": {},
     "output_type": "execute_result"
    }
   ],
   "source": [
    "# cnn 기사 데이터 수집\n",
    "# cnn_news.csv 파일 경로 수정\n",
    "cnn=pd.read_csv(\"../data/cnn_news.csv\")\n",
    "\n",
    "# 기사 선정 기준? \n",
    "import random\n",
    "while True: \n",
    "    i=int(random.randint(0,len(cnn)))\n",
    "    article=cnn.iloc[i]\n",
    "    if not (article.content=='' or article.content==\"No content available.\"): break\n",
    "article\n",
    "\n"
   ]
  },
  {
   "cell_type": "code",
   "execution_count": 19,
   "id": "b7d4c94f",
   "metadata": {},
   "outputs": [
    {
     "name": "stdout",
     "output_type": "stream",
     "text": [
      "Every time a celebrity poses on a red carpet, countless cameras flash, forever immortalizing their outfit, preserving the hundreds or even thousands of hours it has taken to create.\n",
      "\n",
      "Sunday night’s Golden Globes were no different, with Zendaya channeling old Hollywood glamor in a saffron Louis Vuitton gown, Angelina Jolie wearing a dazzling crystal chain McQueen dress and Tilda Swinton donning a custom embroidered Chanel jacket.\n",
      "\n",
      "Online, such red carpet outfits have long afterlives as they are shared around social media, dissected by influencers and journalists alike. But the real-life fate of the garments themselves is less well-publicized. What happens to them after their moment of fame — where do they go and when are they seen again?\n",
      "\n",
      "The afterlives of outfits can take many different forms — some are kept in storage, some are displayed at exhibitions, some wend their way onto the open market and are auctioned, and some are bought by the celebrities wearing them. Occasionally, some don’t even survive the night.\n",
      "\n",
      "Over the past two decades, the outfits worn by celebrities at red carpet events have garnered more and more attention, and consequently significance, said Lucy Bishop, a specialist in handbags and fashion at auction house Sotheby’s.\n",
      "\n",
      "She pinpoints the Dior chartreuse embroidered gown designed by John Galliano and worn by Nicole Kidman at the 1997 Oscars as one of the earliest turning points that “changed the trajectory of red-carpet dressing,” signaling the start of fashion houses “very publicly partnering with a celebrity and sort of officially dressing them for the red carpet.”\n",
      "\n",
      "“Before, it wasn’t such a formal partnership,” she told CNN.\n",
      "\n",
      "It ushered in an age in which teams of stylists and designers are all involved in creating and realizing a red-carpet look, particularly for the highest profile events like the Met Gala and the Oscars. As such, the incentives for preserving the immense work required to produce these looks are much higher.\n",
      "\n",
      "“Those days of a gown being packed away and forgotten about for many years and rediscovered are sadly gone,” Bishop added. “Now, often when a gown is worn on the red carpet, there is usually a plan put in place for where that gown will end up.”\n",
      "\n",
      "Most of the time, fashion houses are responsible for this plan since they often own the red-carpet outfits they designed, though a few celebrities acquire specific gowns for themselves.\n",
      "\n",
      "Kim Kardashian told Vogue in May that she had every one of her Met Gala outfits “saved” in her wardrobe, except the iconic Marilyn Monroe dress she wore two years ago before returning it to Ripley’s Believe It or Not!, which had loaned it to her for the event. Similarly, Zendaya bought the black taffeta 1996 Givenchy by Galliano gown she wore at last year’s Met Gala, her stylist said in an interview.\n",
      "\n",
      "Preserving the gowns\n",
      "The very first thing that happens to a red-carpet outfit after an event is a cleaning process, said Sarah Scaturro, chief conservator at the Cleveland Museum of Art. The person wearing the outfit “might have on body lotions, oils, perfumes, makeup and even if you don’t see that right away … over time, these materials and stains can actually start to oxidize and they will start changing the color of the fabric, and maybe even the texture,” she told CNN.\n",
      "\n",
      "Usually that process involves dry cleaning, but it can sometimes involve wet cleaning or simply vacuuming and brushing the garment, if everything else is impossible, Scaturro added.\n",
      "\n",
      "Once garments have been cleaned, they almost always end up in a specialized storage facility — such as a fashion house’s archive or a private one, like that of Julie Ann Clauss, founder of The Wardrobe, an archiving and storage studio.\n",
      "\n",
      "The outfits remain here for years, meticulously maintained and preserved, only leaving if they are selected for exhibitions or to be worn again — an increasingly common practice with the rise of vintage fashion on the red carpet.\n",
      "\n",
      "Clauss and her team carefully consider how best to preserve the roughly 100,000 pieces in their safekeeping — from the low light levels and controlled temperature and humidity levels, to the specific way in which the garment is stored.\n",
      "\n",
      "“It’s really a case-by-case basis about how each particular item is mounted or stored,” she said. “So some things hang, some things are boxed, and some things have to be mounted, meaning they’re on, like a dress form, because these things are designed to be worn. They’re not really designed to hang or to be laying flat.”\n",
      "\n",
      "Some leave for a time if they are selected for exhibitions, like last year when Britain’s Kensington Palace hosted a “Crown to Couture” exhibition.\n",
      "\n",
      "It featured several iconic looks, including the Marilyn Monroe-inspired tulle Oscar de la Renta dress worn by Billie Eilish at the 2021 Met Gala, the showstopping “Sun God” outfit worn by Billy Porter as he was carried into the 2019 event on a velvet litter, Rihanna’s 2021 voluminous Balenciaga black coat dress, and the glittering gold Peter Dundas dress Beyoncé wore for the 2017 Grammys.\n",
      "\n",
      "In this way, these outfits become like pieces of art, their craftsmanship preserved and admired from a distance, no longer really clothes but exhibits and artifacts that will be studied by some future historian.\n",
      "\n",
      "Getting outfits to these exhibitions is its own daunting task, too. Clauss recalled recently helping a client transport outfits for a tour that were “like these three dimensional, huge things, but fine beading, heavy crystals on really delicate stretch tulle fabric.”\n",
      "\n",
      "“I was like: ‘Guys we can’t put these in a box…’” she said. “They need custom mounts made so they’re stable flying internationally and then they need to have a crate built around it. You see these crates and they’re tremendous, sometimes they’re like seven feet tall for a dress.”\n",
      "\n",
      "An unexpected discovery\n",
      "Before red carpet dressing became so important for the fashion houses from the 1990s onwards, it was more common for a gown to be kept by the person who wore it, who would sometimes give it away or sell it on the open market, said Bishop.\n",
      "\n",
      "Most famously, Elizabeth Taylor gave away the Dior gown she wore to collect her Oscar and, instead of ending up in the Dior archives, the dress was found packed away in a suitcase belonging to her friend and former employee Anne Sanz. It later fetched $200,000 at an auction, according to Kerry Taylor Auctions.\n",
      "\n",
      "Even today, gowns are occasionally found on the open market, sometimes by taking unconventional routes.\n",
      "\n",
      "After the 2019 Golden Globes, Lady Gaga allegedly left her billowing periwinkle gown in her hotel room where it was later picked up by a housekeeper who turned it in to the lost and found at the Beverly Hilton hotel.\n",
      "\n",
      "The Valentino haute couture gown spent months there before the housekeeper said the hotel “gave it to me as a gift” and offered it up at an auction, though it’s unclear whether the sale ultimately went ahead. (CNN reached out to Nate D. Sanders Auctions, which handled the sale, and Valentino, for comment.)\n",
      "\n",
      "Then there’s the garments that don’t even survive the night. For her entrance to the Met Gala last year, singer Tyla wore a custom Balmain dress, encased with three shades of sand mixed with micro crystal studs for extra depth, and it proved to be one of the most striking and innovative looks of the night.\n",
      "\n",
      "But later that evening after the red carpet event, designer Olivier Rousteing cut the long skirt off with scissors, allowing Tyla to walk after she had needed four men to carry her up the museum’s steps. Like the sands of time it represented, the dress had run its course.\n"
     ]
    }
   ],
   "source": [
    "print(article.content)"
   ]
  },
  {
   "cell_type": "markdown",
   "id": "5633cb28",
   "metadata": {},
   "source": [
    "# full code"
   ]
  },
  {
   "cell_type": "code",
   "execution_count": 25,
   "id": "01007dca",
   "metadata": {},
   "outputs": [
    {
     "name": "stdout",
     "output_type": "stream",
     "text": [
      "summary created: 2.81539sec\n",
      "vocab created: 0.58443sec\n"
     ]
    }
   ],
   "source": [
    "# CNN full code\n",
    "import time\n",
    "import google.generativeai as genai\n",
    "\n",
    "\n",
    "# model for CNN, summarize\n",
    "# flash와 pro 양자택일, 어느쪽을 택하든 코드가 크게 달라지진 않음\n",
    "#system_instruction=\n",
    "model = genai.GenerativeModel(\"gemini-1.5-flash\")\n",
    "#model = genai.GenerativeModel(\"gemini-pro\")\n",
    "\n",
    "# give model an article\n",
    "chat = model.start_chat(history=[{'role':'user', 'parts':article.content}])\n",
    "\n",
    "# create summary\n",
    "start=time.time()\n",
    "summary = article.title\n",
    "summary += chat.send_message(\"입력된 내용을 영어로 요약해서 출력해줘. 요약문은 100자 이내여야 해.\").text\n",
    "summary += chat.send_message(\"요약본을 한국어로 번역해줘\").text\n",
    "end=time.time()\n",
    "print(f\"summary created: {end - start:.5f}sec\")\n",
    "\n",
    "# create vocab\n",
    "start=time.time()\n",
    "prompt=\"\"\"\n",
    "영문 요약본에서 적당한 난이도의 단어 3개만 찾아줘, 단어 옆에  한국어 뜻을 붙여줘. 단어와 뜻만 출력해. 각 단어 사이에는 개행해. \n",
    "예시: \n",
    "collates 모으다\n",
    "Crucial 중요한\n",
    "Attributed 귀속된\n",
    "\"\"\"\n",
    "\n",
    "response = chat.send_message(prompt)\n",
    "response=response.text.split('\\n')\n",
    "response.pop()\n",
    "vocab={}\n",
    "for i in range(len(response)):\n",
    "    v,m=response[i].split(maxsplit=1)\n",
    "    vocab[v]=m\n",
    "end=time.time()\n",
    "print(f\"vocab created: {end - start:.5f}sec\")"
   ]
  },
  {
   "cell_type": "markdown",
   "id": "08063b0e",
   "metadata": {},
   "source": [
    "# Summary"
   ]
  },
  {
   "cell_type": "code",
   "execution_count": null,
   "id": "90ea7acf",
   "metadata": {},
   "outputs": [],
   "source": [
    "#summary 생성 셀\n",
    "# flash와 pro 양자택일, 어느쪽을 택하든 코드가 크게 달라지진 않음\n",
    "#system_instruction=\n",
    "model = genai.GenerativeModel(\"gemini-1.5-flash\")\n",
    "#model = genai.GenerativeModel(\"gemini-pro\")\n",
    "\n",
    "# give model an article\n",
    "chat = model.start_chat(history=[{'role':'user', 'parts':article}])\n",
    "\n",
    "# create summary\n",
    "start=time.time()\n",
    "summary = chat.send_message(\"가지고 온 영어로된 기사를 영어로 요약해서 출력해줘. 요약문은 100자 이내여야 해.\")\n",
    "summary += chat.send_message(\"요약본을 한국어로 번역해줘\")\n",
    "end=time.time()\n",
    "print(f\"summary created: {end - start:.5f}sec\")"
   ]
  },
  {
   "cell_type": "code",
   "execution_count": 26,
   "id": "bc592cd4",
   "metadata": {},
   "outputs": [
    {
     "name": "stdout",
     "output_type": "stream",
     "text": [
      "What happens to celebrities’ outfits after a red carpet event?The article discusses the post-red-carpet life of celebrity gowns.  Initially, gowns were often forgotten, but now, due to increased collaboration between designers and celebrities,  most have a planned destination:  fashion house archives, private collections, or exhibitions.  Gowns undergo cleaning before storage, sometimes requiring specialized handling and transport for exhibitions.  Occasionally, gowns are sold or even discarded after the event, highlighting the evolving significance and fate of these iconic garments.\n",
      "이 글은 유명인의 레드카펫 의상이 행사 후 어떻게 되는지에 대한 내용입니다.  처음에는 의상들이 잊혀지는 경우가 많았지만, 디자이너와 유명인의 협업이 증가하면서 이제 대부분의 의상은 미리 계획된 장소로 이동합니다.  이는 패션 하우스의 보관소, 개인 소장품, 또는 전시회 등입니다. 의상들은 보관 전에 세탁 과정을 거치며, 전시를 위해서는 특별한 취급과 운송이 필요하기도 합니다.  때때로 의상은 판매되거나 행사 후 버려지기도 하는데, 이는 이러한 상징적인 의상들의 중요성과 운명이 변화하고 있음을 보여줍니다.\n",
      "\n"
     ]
    }
   ],
   "source": [
    "print(summary)"
   ]
  },
  {
   "cell_type": "code",
   "execution_count": 22,
   "id": "521846b8",
   "metadata": {},
   "outputs": [
    {
     "name": "stdout",
     "output_type": "stream",
     "text": [
      "원문 길이: 7613\n",
      "요약문 길이: 599\n"
     ]
    }
   ],
   "source": [
    "print(\"원문 길이:\", len(article.content))\n",
    "print(\"요약문 길이:\", len(summary.split(\"\\n\")[0]))"
   ]
  },
  {
   "cell_type": "code",
   "execution_count": 23,
   "id": "a6770d1a",
   "metadata": {},
   "outputs": [
    {
     "data": {
      "text/plain": [
       "'한때 잠깐의 명성 후 잊혀지던 레드카펫 드레스들은 이제 신중하게 계획된 미래를 갖게 되었다. 오스카상이나 메트 갈라 같은 중요한 행사들 덕분에 이 의상들의 가치와 보존이 중요해졌다. 패션 하우스들은 종종 소유권을 유지하며, 드레스들을 보관하거나 전시회에 사용한다.  일부 유명인들은 자신의 드레스를 구매하지만, 레이디 가가처럼 예상치 못하게 경매 시장에 드레스가 등장하는 경우도 있다. 때로는 타일라의 발망 드레스처럼 행사 중간에 드레스가 변형되는 등 극적으로 수명이 끝나는 경우도 있다.'"
      ]
     },
     "execution_count": 23,
     "metadata": {},
     "output_type": "execute_result"
    }
   ],
   "source": [
    "# 영어 요약문\n",
    "summary.split(\"\\n\")[0]\n",
    "\n",
    "# 한국어 요약문\n",
    "summary.split(\"\\n\")[1]"
   ]
  },
  {
   "cell_type": "markdown",
   "id": "7fd29ed3",
   "metadata": {},
   "source": [
    "# 단어 추출(vocab)"
   ]
  },
  {
   "cell_type": "code",
   "execution_count": 24,
   "id": "61905657",
   "metadata": {},
   "outputs": [
    {
     "name": "stdout",
     "output_type": "stream",
     "text": [
      "vocab created: 0.59116sec\n"
     ]
    }
   ],
   "source": [
    "# 단어 추출\n",
    "# flash와 pro 양자택일, 어느쪽을 택하든 코드가 크게 달라지진 않음\n",
    "model = genai.GenerativeModel(\"gemini-1.5-flash\")\n",
    "#model = genai.GenerativeModel(\"gemini-pro\")\n",
    "\n",
    "# give model an article\n",
    "chat = model.start_chat(history=[{'role':'user', 'parts':article}])\n",
    "\n",
    "# create vocab\n",
    "start=time.time()\n",
    "prompt=\"\"\"\n",
    "영문 요약본에서 적당한 난이도의 단어 3개만 찾아줘, 단어 옆에  한국어 뜻을 붙여줘. 단어와 뜻만 출력해. 각 단어 사이에는 개행해. \n",
    "예시: \n",
    "collates 모으다\n",
    "Crucial 중요한\n",
    "Attributed 귀속된\n",
    "\"\"\"\n",
    "\n",
    "response = chat.send_message(prompt)\n",
    "response=response.text.split('\\n')\n",
    "response.pop()\n",
    "vocab={}\n",
    "for i in range(len(response)):\n",
    "    v,m=response[i].split(maxsplit=1)\n",
    "    vocab[v]=m\n",
    "end=time.time()\n",
    "print(f\"vocab created: {end - start:.5f}sec\")"
   ]
  },
  {
   "cell_type": "code",
   "execution_count": 27,
   "id": "1b531ef0",
   "metadata": {},
   "outputs": [
    {
     "data": {
      "text/plain": [
       "{'Initially': '처음에', 'Archives': '보관소', 'Evolving': '진화하는'}"
      ]
     },
     "execution_count": 27,
     "metadata": {},
     "output_type": "execute_result"
    }
   ],
   "source": [
    "vocab"
   ]
  },
  {
   "cell_type": "code",
   "execution_count": 69,
   "id": "43bb9dc6",
   "metadata": {},
   "outputs": [
    {
     "data": {
      "text/plain": [
       "[parts {\n",
       "   text: \"A former child star from Australia died when the Los Angeles wildfires ripped through his family’s Malibu estate in California earlier this week, according to his mother. Rory Callum Sykes was at the ...\"\n",
       " }\n",
       " role: \"user\",\n",
       " parts {\n",
       "   text: \"가지고 온 영어로된 기사를 영어로 요약해서 출력해줘. 요약문은 100자 이내여야 해.\"\n",
       " }\n",
       " role: \"user\",\n",
       " parts {\n",
       "   text: \"Please provide me with the English article you\\'d like me to summarize.  I need the text of the article to create a 100-word summary.\\n\"\n",
       " }\n",
       " role: \"model\",\n",
       " parts {\n",
       "   text: \"요약본을 한국어로 번역해줘\"\n",
       " }\n",
       " role: \"user\",\n",
       " parts {\n",
       "   text: \"죄송합니다. 제게 기사 내용이 없어서 요약본을 한국어로 번역할 수 없습니다. 기사를 제공해주시면 제가 요약하고 한국어로 번역해 드리겠습니다.\\n\"\n",
       " }\n",
       " role: \"model\",\n",
       " parts {\n",
       "   text: \"\\n영문 요약본에서 적당한 난이도의 단어 3개만 찾아줘, 단어 옆에  한국어 뜻을 붙여줘. 단어와 뜻만 출력해.\\n예시: \\ncollates 모으다\\nCrucial 중요한\\nAttributed 귀속된\\n\"\n",
       " }\n",
       " role: \"user\",\n",
       " parts {\n",
       "   text: \"estate 재산\\nwildfires 산불\\nreportedly 보도에 따르면\\n\"\n",
       " }\n",
       " role: \"model\"]"
      ]
     },
     "execution_count": 69,
     "metadata": {},
     "output_type": "execute_result"
    }
   ],
   "source": [
    "chat.history"
   ]
  },
  {
   "cell_type": "code",
   "execution_count": null,
   "id": "a1eb7e9b",
   "metadata": {},
   "outputs": [],
   "source": []
  }
 ],
 "metadata": {
  "kernelspec": {
   "display_name": ".venv",
   "language": "python",
   "name": "python3"
  },
  "language_info": {
   "codemirror_mode": {
    "name": "ipython",
    "version": 3
   },
   "file_extension": ".py",
   "mimetype": "text/x-python",
   "name": "python",
   "nbconvert_exporter": "python",
   "pygments_lexer": "ipython3",
   "version": "3.10.11"
  }
 },
 "nbformat": 4,
 "nbformat_minor": 5
}
